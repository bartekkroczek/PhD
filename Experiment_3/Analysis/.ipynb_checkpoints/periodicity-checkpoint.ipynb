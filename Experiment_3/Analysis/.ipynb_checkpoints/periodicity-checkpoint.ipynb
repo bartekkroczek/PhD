{
  "cells": [
    {
      "cell_type": "raw",
      "metadata": {},
      "source": [
        "---\n",
        "title: \"Periodicity\"\n",
        "author: \"Bartek Kroczek\"\n",
        "format: html\n",
        "editor: source\n",
        "---"
      ]
    },
    {
      "cell_type": "code",
      "metadata": {},
      "source": [
        "library(tidyverse)\n",
        "library(ggplot2)\n",
        "library(papaja)\n",
        "library(WaveletComp)\n",
        "library(patchwork)"
      ],
      "execution_count": null,
      "outputs": []
    },
    {
      "cell_type": "code",
      "metadata": {},
      "source": [
        "#| label: load-data\n",
        "#| include: false\n",
        "\n",
        "data.names <-\n",
        "  c(list.files('../Data/Cohort_1', full.names = T, pattern = '*.csv$'),\n",
        "    list.files('../Data/Cohort_2', full.names = T, pattern = '*.csv$'))\n",
        "data.files <- read_csv(data.names)"
      ],
      "execution_count": null,
      "outputs": []
    },
    {
      "cell_type": "code",
      "metadata": {},
      "source": [
        "#| include: false\n",
        "data.aggr <-\n",
        "  data.files |>\n",
        "  mutate(PART_ID = str_sub(PART_ID, 1, 6)) |>\n",
        "  filter(Trial_type == \"experiment\", Rt > 0.0) |> # Experiment and no timeout\n",
        "  select(PART_ID,CSI, Corr) |>\n",
        "  mutate(t = CSI * 8.3) |>\n",
        "  group_by(PART_ID, t) |>\n",
        "  summarise(mean_corr = 100.0 * mean(Corr)) "
      ],
      "execution_count": null,
      "outputs": []
    },
    {
      "cell_type": "code",
      "metadata": {},
      "source": [
        "#| echo: false\n",
        "data.aggr |> \n",
        "  filter(PART_ID == \"156K28\") |>\n",
        "  ggplot(mapping = aes(x=t, y=mean_corr/100.0)) +\n",
        "  geom_point() +\n",
        "  geom_line() + \n",
        "  geom_smooth(method='lm', formula = y ~ x) +\n",
        "  ggtitle(\"Single participant data\", \n",
        "          subtitle = \"Blue line represents linear regression fitted to data\") + \n",
        "  scale_y_continuous(labels = scales::percent) +\n",
        "  labs(x = \"PDI in [ms]\", y = \"Average correctness\") +\n",
        "  theme_apa()"
      ],
      "execution_count": null,
      "outputs": []
    },
    {
      "cell_type": "markdown",
      "metadata": {},
      "source": [
        "## Ljubng box formal testng"
      ]
    },
    {
      "cell_type": "code",
      "metadata": {},
      "source": [
        "# Group by participant and nest data\n",
        "nested_data <- data.aggr %>%\n",
        "  arrange(PART_ID, t) %>%\n",
        "  group_by(PART_ID) %>%\n",
        "  nest()\n",
        "\n",
        "# Define a function to detrend and perform the Ljung-Box test\n",
        "process_data <- function(df) {\n",
        "  # Polynomial Detrending\n",
        "  fit <- lm(mean_corr ~ poly(t, 2), data = df)\n",
        "  df$detrended_mean_corr <- residuals(fit)\n",
        "  \n",
        "  # Ljung-Box test on the detrended series\n",
        "  test_result <-\n",
        "    Box.test(df$detrended_mean_corr, type = \"Ljung-Box\")\n",
        "  \n",
        "  # Return a tibble with the results\n",
        "  tibble(\n",
        "    p_value = test_result$p.value,\n",
        "    statistic = test_result$statistic,\n",
        "    lag = test_result$parameter,\n",
        "    method = test_result$method\n",
        "  )\n",
        "}\n",
        "\n",
        "# Apply the function to each nested dataframe\n",
        "ljung_box_results <- nested_data %>%\n",
        "  mutate(results = map(data, process_data)) %>%\n",
        "  select(-data) %>%\n",
        "  unnest(results) %>%\n",
        "  ungroup()\n",
        "\n",
        "# Adjust p-values for multiple comparisons\n",
        "ljung_box_results <- ljung_box_results %>%\n",
        "  mutate(adjusted_p_value = p.adjust(p_value, method = \"BH\"))\n",
        "\n",
        "\n",
        "# View the results\n",
        "print(ljung_box_results)"
      ],
      "execution_count": null,
      "outputs": []
    },
    {
      "cell_type": "markdown",
      "metadata": {},
      "source": [
        "Benjamini-Hochberg (BH) is more suitable for exploratory research where you are dealing with a large number of independent tests"
      ]
    },
    {
      "cell_type": "code",
      "metadata": {},
      "source": [
        "# How many participants has significant values \n",
        "ljung_box_results |> \n",
        "  summarise(\n",
        "  Significant_Raw = sum(p_value < 0.05),\n",
        "  Significant_Adjusted = sum(adjusted_p_value < 0.05))"
      ],
      "execution_count": null,
      "outputs": []
    },
    {
      "cell_type": "markdown",
      "metadata": {},
      "source": [
        "## Wavelet Transform"
      ]
    },
    {
      "cell_type": "code",
      "metadata": {},
      "source": [
        "# Wybieramy osobę badaną do wizualizacji\n",
        "random_part_id <- data.aggr$PART_ID |> unique() |> sample(1)\n",
        "# random_part_id <- \"97K21\" # całkiem dużo widać\n",
        "# random_part_id <- \"59K22\" # też sporo, acz nieco gorzej\n",
        "# random_part_id <- \"106M23\" # trzy wyraźne wyspy \n",
        "# random_part_id <- \"146M21\" # marnizna raczej\n",
        "# random_part_id <- \"40K24\" # globalna wolna fala powyżej 200ms i jeden peak\n",
        "# random_part_id <- \"37K24\" # jeden peak, reszta płaska\n",
        "# random_part_id <- \"36K20\" # dwa peaki, reszta płaska\n",
        "# random_part_id <- \"91M22\" # trzy spore peaki, troche płaska reszta\n",
        "# random_part_id <- \"118K23\" # idealna wolna fala na całości \n",
        "# random_part_id <- \"96K22\" # płasciutko i zawirowanie na końcu \n",
        "# random_part_id <- \"75K22\" # wolna faza na całości, trochę szumu na początku\n",
        "print(random_part_id)"
      ],
      "execution_count": null,
      "outputs": []
    },
    {
      "cell_type": "code",
      "metadata": {},
      "source": [
        "# detrending poprzez odjęcie wielomianu stopnia 2\n",
        "my.data <- data.aggr |> filter(PART_ID == random_part_id) |> arrange(t)\n",
        "fit <- lm(mean_corr ~ poly(t, 2), data = my.data)\n",
        "my.data$mean_corr <- residuals(fit)\n",
        "\n",
        "my.data <- data.frame(time = my.data$t, x = my.data$mean_corr)\n",
        "\n",
        "my.w <- analyze.wavelet(my.data, \"x\",\n",
        "loess.span = 0,\n",
        "dt = 1, dj = 1/60,\n",
        "lowerPeriod = 1,\n",
        "upperPeriod = 16,\n",
        "make.pval = TRUE, n.sim = 200)"
      ],
      "execution_count": null,
      "outputs": []
    },
    {
      "cell_type": "code",
      "metadata": {},
      "source": [
        "# Z JAKIEGOŚ DZIWNEGO POWODU P VALUE JEEST USTALONE NA P=0.1\n",
        "wt.image(\n",
        "  siglvl = 0.05, \n",
        "  plot.ridge = FALSE,\n",
        "  plot.legend = FALSE,\n",
        "  my.w,\n",
        "  color.key = \"quantile\",\n",
        "  n.levels = 250,\n",
        "  # legend.params = list(lab = \"wavelet power levels\", mar = 4.7),\n",
        "  timelab = \"PDI in [ms]\",\n",
        "  periodlab = \" Period in [data points per cycle]\",\n",
        "  spec.time.axis = list(at = seq(0, 48, by = 12),\n",
        "                        labels = seq(200, 1000, by = 200))\n",
        "  # spec.period.axis = list(at = c(1, 2, 4, 8, 16), labels = c(16, 8, 4, 2, 1))\n",
        "\n",
        ")"
      ],
      "execution_count": null,
      "outputs": []
    },
    {
      "cell_type": "code",
      "metadata": {},
      "source": [
        "reconstruct(\n",
        "  my.w,\n",
        "  plot.waves = FALSE,\n",
        "  lwd = c(1, 2),\n",
        "  legend.coords = \"bottomleft\",\n",
        "  only.sig = TRUE,\n",
        "  spec.time.axis = list(at = seq(0, 48, by = 12),\n",
        "                        labels = seq(200, 1000, by = 200)),\n",
        "    timelab = \"PDI in [ms]\"\n",
        ")"
      ],
      "execution_count": null,
      "outputs": []
    },
    {
      "cell_type": "markdown",
      "metadata": {},
      "source": [
        "## Peridogram"
      ]
    },
    {
      "cell_type": "code",
      "metadata": {},
      "source": [
        "# Plot the periodogram\n",
        "spectrum(my.data, main = \"Periodogram of Time Series Data\")\n",
        "\n",
        "# If you prefer a ggplot2 style plot, you can extract the spectral data and plot it manually\n",
        "spectral_data <- spectrum(my.data$x, plot = FALSE)\n",
        "spectral_df <-\n",
        "  as_tibble(list(frequency = spectral_data$freq, spectrum = spectral_data$spec))\n",
        "\n",
        "# Plot using ggplot2\n",
        "ggplot(spectral_df, aes(x = frequency, y = spectrum)) +\n",
        "  geom_line() +\n",
        "  theme_apa() +\n",
        "  labs(x = \"Frequency\", y = \"Spectral Density\", title = \"Periodogram of Time Series Data\")"
      ],
      "execution_count": null,
      "outputs": []
    }
  ],
  "metadata": {
    "kernelspec": {
      "name": "ir",
      "language": "R",
      "display_name": "R"
    }
  },
  "nbformat": 4,
  "nbformat_minor": 4
}